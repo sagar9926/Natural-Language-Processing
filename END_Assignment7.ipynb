{
  "nbformat": 4,
  "nbformat_minor": 0,
  "metadata": {
    "colab": {
      "name": "END Assignment7.ipynb",
      "provenance": [],
      "collapsed_sections": [],
      "include_colab_link": true
    },
    "kernelspec": {
      "name": "python3",
      "display_name": "Python 3"
    },
    "accelerator": "GPU"
  },
  "cells": [
    {
      "cell_type": "markdown",
      "metadata": {
        "id": "view-in-github",
        "colab_type": "text"
      },
      "source": [
        "<a href=\"https://colab.research.google.com/github/sagar9926/Natural-Language-Processing/blob/main/END_Assignment7.ipynb\" target=\"_parent\"><img src=\"https://colab.research.google.com/assets/colab-badge.svg\" alt=\"Open In Colab\"/></a>"
      ]
    },
    {
      "cell_type": "markdown",
      "metadata": {
        "id": "GYiRsFGD6iUC"
      },
      "source": [
        "# 0 TorchText"
      ]
    },
    {
      "cell_type": "code",
      "metadata": {
        "colab": {
          "base_uri": "https://localhost:8080/"
        },
        "id": "QgO2M09rekNe",
        "outputId": "f87930d5-e951-41c2-e703-2a79196f18ff"
      },
      "source": [
        "!git clone https://github.com/prrao87/fine-grained-sentiment.git"
      ],
      "execution_count": 1,
      "outputs": [
        {
          "output_type": "stream",
          "text": [
            "Cloning into 'fine-grained-sentiment'...\n",
            "remote: Enumerating objects: 85, done.\u001b[K\n",
            "remote: Counting objects: 100% (85/85), done.\u001b[K\n",
            "remote: Compressing objects: 100% (64/64), done.\u001b[K\n",
            "remote: Total 470 (delta 45), reused 48 (delta 20), pack-reused 385\u001b[K\n",
            "Receiving objects: 100% (470/470), 1.63 MiB | 14.36 MiB/s, done.\n",
            "Resolving deltas: 100% (271/271), done.\n"
          ],
          "name": "stdout"
        }
      ]
    },
    {
      "cell_type": "code",
      "metadata": {
        "id": "Dn7zb2VTfIhi"
      },
      "source": [
        "!mkdir data"
      ],
      "execution_count": 2,
      "outputs": []
    },
    {
      "cell_type": "code",
      "metadata": {
        "id": "sPB4rgYUeofd"
      },
      "source": [
        "!cp /content/fine-grained-sentiment/data/sst/sst_dev.txt /content/data\r\n",
        "!cp /content/fine-grained-sentiment/data/sst/sst_test.txt /content/data\r\n",
        "!cp /content/fine-grained-sentiment/data/sst/sst_train.txt /content/data\r\n",
        "   "
      ],
      "execution_count": 3,
      "outputs": []
    },
    {
      "cell_type": "code",
      "metadata": {
        "id": "vWXKYd1jeuTt"
      },
      "source": [
        "# Import Library\r\n",
        "import random\r\n",
        "import torch, torchtext\r\n",
        "from torchtext import data\r\n",
        "from torchtext import datasets\r\n",
        "import pandas as pd\r\n",
        "import numpy as np\r\n",
        "\r\n",
        "# Manual Seed\r\n",
        "SEED = 43\r\n",
        "torch.manual_seed(SEED)\r\n",
        "import spacy\r\n",
        "spacy_en = spacy.load('en')"
      ],
      "execution_count": 4,
      "outputs": []
    },
    {
      "cell_type": "code",
      "metadata": {
        "id": "vlSbEgSYgJrq"
      },
      "source": [
        "df_train = pd.read_csv('/content/data/sst_train.txt', sep='\\t', header=None,\r\n",
        "                   names=['sentiment', 'review'],\r\n",
        "                  )\r\n",
        "df_train['sentiment'] = df_train['sentiment'].str.replace('__label__', '')\r\n",
        "df_train['sentiment'] = df_train['sentiment'].astype(int)\r\n",
        "\r\n",
        "df_test = pd.read_csv('/content/data/sst_test.txt', sep='\\t', header=None,\r\n",
        "                   names=['sentiment', 'review'],\r\n",
        "                  )\r\n",
        "df_test['sentiment'] = df_test['sentiment'].str.replace('__label__', '')\r\n",
        "df_test['sentiment'] = df_test['sentiment'].astype(int)\r\n",
        "\r\n",
        "\r\n",
        "df_dev = pd.read_csv('/content/data/sst_dev.txt', sep='\\t', header=None,\r\n",
        "                   names=['sentiment', 'review'],\r\n",
        "                  )\r\n",
        "df_dev['sentiment'] = df_dev['sentiment'].str.replace('__label__', '')\r\n",
        "df_dev['sentiment'] = df_dev['sentiment'].astype(int)\r\n"
      ],
      "execution_count": 5,
      "outputs": []
    },
    {
      "cell_type": "code",
      "metadata": {
        "colab": {
          "base_uri": "https://localhost:8080/",
          "height": 197
        },
        "id": "vTf1AYrKgYsV",
        "outputId": "e1ac75c8-d7c0-4dfd-8453-4fb51321738a"
      },
      "source": [
        "df_train.head()"
      ],
      "execution_count": 6,
      "outputs": [
        {
          "output_type": "execute_result",
          "data": {
            "text/html": [
              "<div>\n",
              "<style scoped>\n",
              "    .dataframe tbody tr th:only-of-type {\n",
              "        vertical-align: middle;\n",
              "    }\n",
              "\n",
              "    .dataframe tbody tr th {\n",
              "        vertical-align: top;\n",
              "    }\n",
              "\n",
              "    .dataframe thead th {\n",
              "        text-align: right;\n",
              "    }\n",
              "</style>\n",
              "<table border=\"1\" class=\"dataframe\">\n",
              "  <thead>\n",
              "    <tr style=\"text-align: right;\">\n",
              "      <th></th>\n",
              "      <th>sentiment</th>\n",
              "      <th>review</th>\n",
              "    </tr>\n",
              "  </thead>\n",
              "  <tbody>\n",
              "    <tr>\n",
              "      <th>0</th>\n",
              "      <td>4</td>\n",
              "      <td>The Rock is destined to be the 21st Century 's...</td>\n",
              "    </tr>\n",
              "    <tr>\n",
              "      <th>1</th>\n",
              "      <td>5</td>\n",
              "      <td>The gorgeously elaborate continuation of `` Th...</td>\n",
              "    </tr>\n",
              "    <tr>\n",
              "      <th>2</th>\n",
              "      <td>4</td>\n",
              "      <td>Singer/composer Bryan Adams contributes a slew...</td>\n",
              "    </tr>\n",
              "    <tr>\n",
              "      <th>3</th>\n",
              "      <td>3</td>\n",
              "      <td>You 'd think by now America would have had eno...</td>\n",
              "    </tr>\n",
              "    <tr>\n",
              "      <th>4</th>\n",
              "      <td>4</td>\n",
              "      <td>Yet the act is still charming here .</td>\n",
              "    </tr>\n",
              "  </tbody>\n",
              "</table>\n",
              "</div>"
            ],
            "text/plain": [
              "   sentiment                                             review\n",
              "0          4  The Rock is destined to be the 21st Century 's...\n",
              "1          5  The gorgeously elaborate continuation of `` Th...\n",
              "2          4  Singer/composer Bryan Adams contributes a slew...\n",
              "3          3  You 'd think by now America would have had eno...\n",
              "4          4               Yet the act is still charming here ."
            ]
          },
          "metadata": {
            "tags": []
          },
          "execution_count": 6
        }
      ]
    },
    {
      "cell_type": "code",
      "metadata": {
        "id": "dkF0KxSj-FM3"
      },
      "source": [
        "#preprocess_pipeline = data.Pipeline(lambda x: x + \"!\")"
      ],
      "execution_count": 7,
      "outputs": []
    },
    {
      "cell_type": "code",
      "metadata": {
        "id": "zCG43NeVho5l"
      },
      "source": [
        "Review = data.Field(sequential = True, tokenize = 'spacy' , batch_first =True, include_lengths=True)\r\n",
        "Sentiment = data.LabelField(tokenize ='spacy', is_target=True, batch_first =True, sequential =False)"
      ],
      "execution_count": 8,
      "outputs": []
    },
    {
      "cell_type": "code",
      "metadata": {
        "id": "xtDQzGX75w67"
      },
      "source": [
        "train_fields = [('review', Review),('sentiment',Sentiment)]\r\n",
        "dev_fields = [('review', Review),('sentiment',Sentiment)]\r\n",
        "test_fields = [('review', Review),('sentiment',Sentiment)]"
      ],
      "execution_count": 9,
      "outputs": []
    },
    {
      "cell_type": "code",
      "metadata": {
        "id": "zRnzmBpU6Oz9"
      },
      "source": [
        "train_example = [data.Example.fromlist([df_train.review[i],df_train.sentiment[i]], train_fields) for i in range(df_train.shape[0])] \r\n",
        "dev_example = [data.Example.fromlist([df_dev.review[i],df_dev.sentiment[i]], dev_fields) for i in range(df_dev.shape[0])] \r\n",
        "test_example = [data.Example.fromlist([df_test.review[i],df_test.sentiment[i]], test_fields) for i in range(df_test.shape[0])] "
      ],
      "execution_count": 10,
      "outputs": []
    },
    {
      "cell_type": "code",
      "metadata": {
        "id": "hNj15-YP8b6S"
      },
      "source": [
        "trainDataset = data.Dataset(train_example, train_fields)\r\n",
        "devDataset = data.Dataset(dev_example, dev_fields)\r\n",
        "testDataset = data.Dataset(test_example, test_fields)"
      ],
      "execution_count": 11,
      "outputs": []
    },
    {
      "cell_type": "code",
      "metadata": {
        "colab": {
          "base_uri": "https://localhost:8080/"
        },
        "id": "7PSW-1dINmRJ",
        "outputId": "c9085473-150b-4692-ef9d-f63270b5d150"
      },
      "source": [
        "vars(trainDataset.examples[0])"
      ],
      "execution_count": 12,
      "outputs": [
        {
          "output_type": "execute_result",
          "data": {
            "text/plain": [
              "{'review': ['The',\n",
              "  'Rock',\n",
              "  'is',\n",
              "  'destined',\n",
              "  'to',\n",
              "  'be',\n",
              "  'the',\n",
              "  '21st',\n",
              "  'Century',\n",
              "  \"'s\",\n",
              "  'new',\n",
              "  '`',\n",
              "  '`',\n",
              "  'Conan',\n",
              "  \"''\",\n",
              "  'and',\n",
              "  'that',\n",
              "  'he',\n",
              "  \"'s\",\n",
              "  'going',\n",
              "  'to',\n",
              "  'make',\n",
              "  'a',\n",
              "  'splash',\n",
              "  'even',\n",
              "  'greater',\n",
              "  'than',\n",
              "  'Arnold',\n",
              "  'Schwarzenegger',\n",
              "  ',',\n",
              "  'Jean',\n",
              "  '-',\n",
              "  'Claud',\n",
              "  'Van',\n",
              "  'Damme',\n",
              "  'or',\n",
              "  'Steven',\n",
              "  'Segal',\n",
              "  '.'],\n",
              " 'sentiment': 4}"
            ]
          },
          "metadata": {
            "tags": []
          },
          "execution_count": 12
        }
      ]
    },
    {
      "cell_type": "markdown",
      "metadata": {
        "id": "wAnX6AtwC7dH"
      },
      "source": [
        "### Augmentation"
      ]
    },
    {
      "cell_type": "code",
      "metadata": {
        "id": "-7Dz7JJfMqyC"
      },
      "source": [
        "def random_deletion(words, p=0.5): \n",
        "    if len(words) == 1: # return if single word\n",
        "        return words\n",
        "    remaining = list(filter(lambda x: random.uniform(0,1) > p,words)) \n",
        "    if len(remaining) == 0: # if not left, sample a random word\n",
        "        return [random.choice(words)] \n",
        "    else:\n",
        "        return remaining"
      ],
      "execution_count": 13,
      "outputs": []
    },
    {
      "cell_type": "code",
      "metadata": {
        "colab": {
          "base_uri": "https://localhost:8080/"
        },
        "id": "CYnAgDSwEq3q",
        "outputId": "8a23b4d6-6734-4495-959f-65874020ded0"
      },
      "source": [
        "random_deletion([1,2,3,4,5,6,7])"
      ],
      "execution_count": 14,
      "outputs": [
        {
          "output_type": "execute_result",
          "data": {
            "text/plain": [
              "[1, 3, 4, 5, 6, 7]"
            ]
          },
          "metadata": {
            "tags": []
          },
          "execution_count": 14
        }
      ]
    },
    {
      "cell_type": "code",
      "metadata": {
        "id": "LnkbG15HO3Yj"
      },
      "source": [
        "def random_swap(words, n=5): \n",
        "    length = range(len(words)) \n",
        "    for _ in range(n):\n",
        "        idx1, idx2 = random.sample(length, 2)\n",
        "        words[idx1], words[idx2] = words[idx2], words[idx1] \n",
        "    return words"
      ],
      "execution_count": 15,
      "outputs": []
    },
    {
      "cell_type": "code",
      "metadata": {
        "colab": {
          "base_uri": "https://localhost:8080/"
        },
        "id": "PRNEQIN6Ezkg",
        "outputId": "77e9011f-526c-4911-e1ef-d5a96830262c"
      },
      "source": [
        "random_swap([\"My\",\"Name\",\"Is\",\"Sagar\"])"
      ],
      "execution_count": 16,
      "outputs": [
        {
          "output_type": "execute_result",
          "data": {
            "text/plain": [
              "['Name', 'Is', 'Sagar', 'My']"
            ]
          },
          "metadata": {
            "tags": []
          },
          "execution_count": 16
        }
      ]
    },
    {
      "cell_type": "code",
      "metadata": {
        "colab": {
          "base_uri": "https://localhost:8080/"
        },
        "id": "tnaW77-7nxEh",
        "outputId": "0a46f0bf-d545-4cf1-fa72-8825f8ad7801"
      },
      "source": [
        "!pip install google_trans_new"
      ],
      "execution_count": 17,
      "outputs": [
        {
          "output_type": "stream",
          "text": [
            "Collecting google_trans_new\n",
            "  Downloading https://files.pythonhosted.org/packages/f9/7b/9f136106dc5824dc98185c97991d3cd9b53e70a197154dd49f7b899128f6/google_trans_new-1.1.9-py3-none-any.whl\n",
            "Installing collected packages: google-trans-new\n",
            "Successfully installed google-trans-new-1.1.9\n"
          ],
          "name": "stdout"
        }
      ]
    },
    {
      "cell_type": "code",
      "metadata": {
        "id": "pHhNBbYrRXNy"
      },
      "source": [
        "import random\n",
        "import google_trans_new\n",
        "from google_trans_new import google_translator\n",
        "\n",
        "def back_trans(words):\n",
        "  translator = google_translator()\n",
        "  sentence = \" \".join(words)\n",
        "\n",
        "  available_langs = list(google_trans_new.LANGUAGES.keys()) \n",
        "  trans_lang = random.choice(available_langs) \n",
        "  #print(f\"Translating to {googletrans.LANGUAGES[trans_lang]}\")\n",
        "\n",
        "  translations = translator.translate(sentence, lang_tgt=trans_lang) \n",
        "  \n",
        "  translations_en_random = translator.translate(translations, lang_src=trans_lang, lang_tgt='en') \n",
        "  \n",
        "  return translations_en_random.split(\" \")"
      ],
      "execution_count": 18,
      "outputs": []
    },
    {
      "cell_type": "code",
      "metadata": {
        "colab": {
          "base_uri": "https://localhost:8080/"
        },
        "id": "p3cAfTnhFzk2",
        "outputId": "a2400dde-ec19-4456-c4c4-18420c59a4c9"
      },
      "source": [
        "back_trans([\"The\" , \"dog\" , \"is\" , \"sleeping\", \"on\",\"mat\"])"
      ],
      "execution_count": 19,
      "outputs": [
        {
          "output_type": "execute_result",
          "data": {
            "text/plain": [
              "['The', 'dog', 'is', 'sleeping', 'on', 'the', 'carpet', '']"
            ]
          },
          "metadata": {
            "tags": []
          },
          "execution_count": 19
        }
      ]
    },
    {
      "cell_type": "code",
      "metadata": {
        "id": "zejlRyuw7-MM"
      },
      "source": [
        "def augmentation() :\r\n",
        "\r\n",
        "  ## we will apply augmentation only 50% of times\r\n",
        "\r\n",
        "  aug_funcs = [random_deletion , random_swap , back_trans]\r\n",
        "  p = np.random.uniform()\r\n",
        "\r\n",
        "  if 0 < p < 0.5 :\r\n",
        "    func_index =  list(set([np.random.randint(0,3) for _ in range(3)]))\r\n",
        "    augment = [aug_funcs[i] for i in func_index]\r\n",
        "  else : \r\n",
        "    pass\r\n",
        "  return augment"
      ],
      "execution_count": 20,
      "outputs": []
    },
    {
      "cell_type": "code",
      "metadata": {
        "id": "nJT-sf-MIkbY"
      },
      "source": [
        "Review.build_vocab(trainDataset)\r\n",
        "Sentiment.build_vocab(trainDataset)"
      ],
      "execution_count": 21,
      "outputs": []
    },
    {
      "cell_type": "code",
      "metadata": {
        "colab": {
          "base_uri": "https://localhost:8080/"
        },
        "id": "XGPKHYFkI2FC",
        "outputId": "be32c9a4-ced5-46b9-9281-ac2505b2e5ee"
      },
      "source": [
        "print('Size of input vocab : ', len(Review.vocab))\r\n",
        "print('Size of label vocab : ', len(Sentiment.vocab))\r\n",
        "print('Top 10 words appreared repeatedly :', list(Review.vocab.freqs.most_common(10)))\r\n",
        "print('Labels : ', Sentiment.vocab.stoi)"
      ],
      "execution_count": 22,
      "outputs": [
        {
          "output_type": "stream",
          "text": [
            "Size of input vocab :  17165\n",
            "Size of label vocab :  5\n",
            "Top 10 words appreared repeatedly : [('.', 8041), (',', 7131), ('the', 6087), ('and', 4474), ('of', 4446), ('a', 4423), ('to', 3024), ('-', 2739), (\"'s\", 2544), ('is', 2540)]\n",
            "Labels :  defaultdict(<function _default_unk_index at 0x7f5fe95581e0>, {4: 0, 2: 1, 3: 2, 5: 3, 1: 4})\n"
          ],
          "name": "stdout"
        }
      ]
    },
    {
      "cell_type": "code",
      "metadata": {
        "id": "k85dqY2WJAOP"
      },
      "source": [
        "device = torch.device(\"cuda\" if torch.cuda.is_available() else \"cpu\")"
      ],
      "execution_count": 23,
      "outputs": []
    },
    {
      "cell_type": "code",
      "metadata": {
        "id": "LrBNcichJIAm"
      },
      "source": [
        "train_iterator, valid_iterator = data.BucketIterator.splits((trainDataset, devDataset), batch_size = 32, \r\n",
        "                                                            sort_key = lambda x: len(x.review),\r\n",
        "                                                            sort_within_batch=True, device = device)"
      ],
      "execution_count": 24,
      "outputs": []
    },
    {
      "cell_type": "code",
      "metadata": {
        "id": "fAvtk-ntJZSR"
      },
      "source": [
        "import os, pickle\r\n",
        "with open('tokenizer.pkl', 'wb') as tokens: \r\n",
        "    pickle.dump(Review.vocab.stoi, tokens)"
      ],
      "execution_count": 25,
      "outputs": []
    },
    {
      "cell_type": "code",
      "metadata": {
        "id": "bNnaKgoPJfy5"
      },
      "source": [
        "import torch.nn as nn\r\n",
        "import torch.nn.functional as F\r\n",
        "\r\n",
        "class classifier(nn.Module):\r\n",
        "    \r\n",
        "    # Define all the layers used in model\r\n",
        "    def __init__(self, vocab_size, embedding_dim, hidden_dim, output_dim, n_layers, dropout):\r\n",
        "        \r\n",
        "        super().__init__()          \r\n",
        "        \r\n",
        "        # Embedding layer\r\n",
        "        self.embedding = nn.Embedding(vocab_size, embedding_dim)\r\n",
        "        \r\n",
        "        # LSTM layer\r\n",
        "        self.encoder = nn.LSTM(embedding_dim, \r\n",
        "                           hidden_dim, \r\n",
        "                           num_layers=n_layers, \r\n",
        "                           dropout=dropout,\r\n",
        "                           batch_first=True)\r\n",
        "        # try using nn.GRU or nn.RNN here and compare their performances\r\n",
        "        # try bidirectional and compare their performances\r\n",
        "        \r\n",
        "        # Dense layer\r\n",
        "        self.fc = nn.Linear(hidden_dim, output_dim)\r\n",
        "        \r\n",
        "    def forward(self, text, text_lengths):\r\n",
        "        \r\n",
        "        # text = [batch size, sent_length]\r\n",
        "        embedded = self.embedding(text)\r\n",
        "        # embedded = [batch size, sent_len, emb dim]\r\n",
        "      \r\n",
        "        # packed sequence\r\n",
        "        packed_embedded = nn.utils.rnn.pack_padded_sequence(embedded, text_lengths.cpu(), batch_first=True)\r\n",
        "        \r\n",
        "        packed_output, (hidden, cell) = self.encoder(packed_embedded)\r\n",
        "        #hidden = [batch size, num layers * num directions,hid dim]\r\n",
        "        #cell = [batch size, num layers * num directions,hid dim]\r\n",
        "    \r\n",
        "        # Hidden = [batch size, hid dim * num directions]\r\n",
        "        dense_outputs = self.fc(hidden)   \r\n",
        "        \r\n",
        "        # Final activation function softmax\r\n",
        "        output = F.softmax(dense_outputs[0], dim=1)\r\n",
        "            \r\n",
        "        return output"
      ],
      "execution_count": 26,
      "outputs": []
    },
    {
      "cell_type": "code",
      "metadata": {
        "id": "E1_c98xnKQfB"
      },
      "source": [
        "# Define hyperparameters\r\n",
        "size_of_vocab = len(Review.vocab)\r\n",
        "embedding_dim = 300\r\n",
        "num_hidden_nodes = 100\r\n",
        "num_output_nodes = 5\r\n",
        "num_layers = 2\r\n",
        "dropout = 0.2\r\n",
        "\r\n",
        "# Instantiate the model\r\n",
        "model = classifier(size_of_vocab, embedding_dim, num_hidden_nodes, num_output_nodes, num_layers, dropout = dropout)"
      ],
      "execution_count": 27,
      "outputs": []
    },
    {
      "cell_type": "code",
      "metadata": {
        "colab": {
          "base_uri": "https://localhost:8080/"
        },
        "id": "7iRD5ZAxKTpz",
        "outputId": "8ff27703-a68b-4ba8-bfd8-ca63ecc96e07"
      },
      "source": [
        "print(model)\r\n",
        "\r\n",
        "#No. of trianable parameters\r\n",
        "def count_parameters(model):\r\n",
        "    return sum(p.numel() for p in model.parameters() if p.requires_grad)\r\n",
        "    \r\n",
        "print(f'The model has {count_parameters(model):,} trainable parameters')"
      ],
      "execution_count": 28,
      "outputs": [
        {
          "output_type": "stream",
          "text": [
            "classifier(\n",
            "  (embedding): Embedding(17165, 300)\n",
            "  (encoder): LSTM(300, 100, num_layers=2, batch_first=True, dropout=0.2)\n",
            "  (fc): Linear(in_features=100, out_features=5, bias=True)\n",
            ")\n",
            "The model has 5,391,605 trainable parameters\n"
          ],
          "name": "stdout"
        }
      ]
    },
    {
      "cell_type": "code",
      "metadata": {
        "id": "z60fnIU5KWcX"
      },
      "source": [
        "import torch.optim as optim\r\n",
        "\r\n",
        "# define optimizer and loss\r\n",
        "optimizer = optim.Adam(model.parameters(), lr=2e-4)\r\n",
        "criterion = nn.CrossEntropyLoss()\r\n",
        "\r\n",
        "# define metric\r\n",
        "def binary_accuracy(preds, y):\r\n",
        "    #round predictions to the closest integer\r\n",
        "    _, predictions = torch.max(preds, 1)\r\n",
        "    \r\n",
        "    correct = (predictions == y).float() \r\n",
        "    acc = correct.sum() / len(correct)\r\n",
        "    return acc\r\n",
        "    \r\n",
        "# push to cuda if available\r\n",
        "model = model.to(device)\r\n",
        "criterion = criterion.to(device)"
      ],
      "execution_count": 29,
      "outputs": []
    },
    {
      "cell_type": "code",
      "metadata": {
        "id": "3H8s7Ip8LXZm"
      },
      "source": [
        "def train(model, iterator, optimizer, criterion):\r\n",
        "    \r\n",
        "    # initialize every epoch \r\n",
        "    epoch_loss = 0\r\n",
        "    epoch_acc = 0\r\n",
        "    \r\n",
        "    # set the model in training phase\r\n",
        "    model.train()  \r\n",
        "\r\n",
        "    ## applying augmentation\r\n",
        "\r\n",
        "    \r\n",
        "    \r\n",
        "    for batch in iterator:\r\n",
        "        \r\n",
        "        # resets the gradients after every batch\r\n",
        "        optimizer.zero_grad()   \r\n",
        "        \r\n",
        "        # retrieve text and no. of words\r\n",
        "        tweet, tweet_lengths = batch.review   \r\n",
        "        \r\n",
        "        # convert to 1D tensor\r\n",
        "        predictions = model(tweet, tweet_lengths).squeeze()\r\n",
        "        \r\n",
        "        # compute the loss\r\n",
        "        loss = criterion(predictions, batch.sentiment)        \r\n",
        "        \r\n",
        "        # compute the binary accuracy\r\n",
        "        acc = binary_accuracy(predictions, batch.sentiment)   \r\n",
        "        \r\n",
        "        # backpropage the loss and compute the gradients\r\n",
        "        loss.backward()       \r\n",
        "        \r\n",
        "        # update the weights\r\n",
        "        optimizer.step()      \r\n",
        "        \r\n",
        "        # loss and accuracy\r\n",
        "        epoch_loss += loss.item()  \r\n",
        "        epoch_acc += acc.item()    \r\n",
        "        \r\n",
        "    return epoch_loss / len(iterator), epoch_acc / len(iterator)"
      ],
      "execution_count": 30,
      "outputs": []
    },
    {
      "cell_type": "code",
      "metadata": {
        "id": "Am-cmugIMNdw"
      },
      "source": [
        "def evaluate(model, iterator, criterion):\r\n",
        "    \r\n",
        "    # initialize every epoch\r\n",
        "    epoch_loss = 0\r\n",
        "    epoch_acc = 0\r\n",
        "\r\n",
        "    # deactivating dropout layers\r\n",
        "    model.eval()\r\n",
        "    \r\n",
        "    # deactivates autograd\r\n",
        "    with torch.no_grad():\r\n",
        "    \r\n",
        "        for batch in iterator:\r\n",
        "        \r\n",
        "            # retrieve text and no. of words\r\n",
        "            tweet, tweet_lengths = batch.review\r\n",
        "            \r\n",
        "            # convert to 1d tensor\r\n",
        "            predictions = model(tweet, tweet_lengths).squeeze()\r\n",
        "            \r\n",
        "            # compute loss and accuracy\r\n",
        "            loss = criterion(predictions, batch.sentiment)\r\n",
        "            acc = binary_accuracy(predictions, batch.sentiment)\r\n",
        "            \r\n",
        "            # keep track of loss and accuracy\r\n",
        "            epoch_loss += loss.item()\r\n",
        "            epoch_acc += acc.item()\r\n",
        "        \r\n",
        "    return epoch_loss / len(iterator), epoch_acc / len(iterator)"
      ],
      "execution_count": 31,
      "outputs": []
    },
    {
      "cell_type": "code",
      "metadata": {
        "colab": {
          "base_uri": "https://localhost:8080/"
        },
        "id": "8FxbDAxXMQNv",
        "outputId": "08d5e884-1665-4b20-8815-6c1635ee3b42"
      },
      "source": [
        "N_EPOCHS = 10\r\n",
        "best_valid_loss = float('inf')\r\n",
        "\r\n",
        "for epoch in range(N_EPOCHS):\r\n",
        "     \r\n",
        "    # train the model\r\n",
        "    train_loss, train_acc = train(model, train_iterator, optimizer, criterion)\r\n",
        "    \r\n",
        "    # evaluate the model\r\n",
        "    valid_loss, valid_acc = evaluate(model, valid_iterator, criterion)\r\n",
        "    \r\n",
        "    # save the best model\r\n",
        "    if valid_loss < best_valid_loss:\r\n",
        "        best_valid_loss = valid_loss\r\n",
        "        torch.save(model.state_dict(), 'saved_weights.pt')\r\n",
        "    \r\n",
        "    print(f'\\tTrain Loss: {train_loss:.3f} | Train Acc: {train_acc*100:.2f}%')\r\n",
        "    print(f'\\t Val. Loss: {valid_loss:.3f} |  Val. Acc: {valid_acc*100:.2f}% \\n')"
      ],
      "execution_count": 32,
      "outputs": [
        {
          "output_type": "stream",
          "text": [
            "\tTrain Loss: 1.581 | Train Acc: 26.80%\n",
            "\t Val. Loss: 1.578 |  Val. Acc: 26.68% \n",
            "\n",
            "\tTrain Loss: 1.568 | Train Acc: 30.81%\n",
            "\t Val. Loss: 1.571 |  Val. Acc: 29.59% \n",
            "\n",
            "\tTrain Loss: 1.540 | Train Acc: 35.37%\n",
            "\t Val. Loss: 1.557 |  Val. Acc: 32.09% \n",
            "\n",
            "\tTrain Loss: 1.492 | Train Acc: 40.91%\n",
            "\t Val. Loss: 1.560 |  Val. Acc: 31.42% \n",
            "\n",
            "\tTrain Loss: 1.444 | Train Acc: 45.38%\n",
            "\t Val. Loss: 1.550 |  Val. Acc: 33.29% \n",
            "\n",
            "\tTrain Loss: 1.404 | Train Acc: 50.34%\n",
            "\t Val. Loss: 1.553 |  Val. Acc: 32.84% \n",
            "\n",
            "\tTrain Loss: 1.365 | Train Acc: 55.57%\n",
            "\t Val. Loss: 1.555 |  Val. Acc: 32.58% \n",
            "\n",
            "\tTrain Loss: 1.331 | Train Acc: 59.12%\n",
            "\t Val. Loss: 1.561 |  Val. Acc: 31.37% \n",
            "\n",
            "\tTrain Loss: 1.303 | Train Acc: 61.79%\n",
            "\t Val. Loss: 1.566 |  Val. Acc: 30.66% \n",
            "\n",
            "\tTrain Loss: 1.281 | Train Acc: 63.74%\n",
            "\t Val. Loss: 1.573 |  Val. Acc: 30.57% \n",
            "\n"
          ],
          "name": "stdout"
        }
      ]
    },
    {
      "cell_type": "code",
      "metadata": {
        "id": "TVAuG-izMSNZ",
        "colab": {
          "base_uri": "https://localhost:8080/"
        },
        "outputId": "a330a038-d423-4229-9393-18c71277abf9"
      },
      "source": [
        "train_iterator.dataset.examples[0].review"
      ],
      "execution_count": 40,
      "outputs": [
        {
          "output_type": "execute_result",
          "data": {
            "text/plain": [
              "['The',\n",
              " 'Rock',\n",
              " 'is',\n",
              " 'destined',\n",
              " 'to',\n",
              " 'be',\n",
              " 'the',\n",
              " '21st',\n",
              " 'Century',\n",
              " \"'s\",\n",
              " 'new',\n",
              " '`',\n",
              " '`',\n",
              " 'Conan',\n",
              " \"''\",\n",
              " 'and',\n",
              " 'that',\n",
              " 'he',\n",
              " \"'s\",\n",
              " 'going',\n",
              " 'to',\n",
              " 'make',\n",
              " 'a',\n",
              " 'splash',\n",
              " 'even',\n",
              " 'greater',\n",
              " 'than',\n",
              " 'Arnold',\n",
              " 'Schwarzenegger',\n",
              " ',',\n",
              " 'Jean',\n",
              " '-',\n",
              " 'Claud',\n",
              " 'Van',\n",
              " 'Damme',\n",
              " 'or',\n",
              " 'Steven',\n",
              " 'Segal',\n",
              " '.']"
            ]
          },
          "metadata": {
            "tags": []
          },
          "execution_count": 40
        }
      ]
    },
    {
      "cell_type": "code",
      "metadata": {
        "id": "BSuazWB1QgWx",
        "outputId": "c7aea9b8-fd1e-449f-d366-efef2ae8772d",
        "colab": {
          "base_uri": "https://localhost:8080/"
        }
      },
      "source": [
        "len(train_iterator)"
      ],
      "execution_count": 44,
      "outputs": [
        {
          "output_type": "execute_result",
          "data": {
            "text/plain": [
              "267"
            ]
          },
          "metadata": {
            "tags": []
          },
          "execution_count": 44
        }
      ]
    },
    {
      "cell_type": "code",
      "metadata": {
        "id": "rQYS3ApcSMag"
      },
      "source": [
        ""
      ],
      "execution_count": null,
      "outputs": []
    }
  ]
}