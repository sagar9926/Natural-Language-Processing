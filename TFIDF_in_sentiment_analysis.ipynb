{
  "nbformat": 4,
  "nbformat_minor": 0,
  "metadata": {
    "colab": {
      "name": "TFIDF in sentiment analysis.ipynb",
      "provenance": [],
      "authorship_tag": "ABX9TyMNhNZBfj1e3ocdmgcayzvt",
      "include_colab_link": true
    },
    "kernelspec": {
      "name": "python3",
      "display_name": "Python 3"
    }
  },
  "cells": [
    {
      "cell_type": "markdown",
      "metadata": {
        "id": "view-in-github",
        "colab_type": "text"
      },
      "source": [
        "<a href=\"https://colab.research.google.com/github/sagar9926/Natural-Language-Processing/blob/main/TFIDF_in_sentiment_analysis.ipynb\" target=\"_parent\"><img src=\"https://colab.research.google.com/assets/colab-badge.svg\" alt=\"Open In Colab\"/></a>"
      ]
    },
    {
      "cell_type": "markdown",
      "metadata": {
        "id": "dOZl_aBA-Nb4"
      },
      "source": [
        "Credits : https://towardsdatascience.com/a-gentle-introduction-to-calculating-the-tf-idf-values-9e391f8a13e5\n",
        "\n",
        "## What is TF IDF?\n",
        "\n",
        "Intuitively, to understand what text is about, we look for words that occur frequently. Term frequency covers that aspect by capturing the number of times each word occurs in the text. However, in this article, there are 200+ occurrences of the word ‘the’ and only 55 occurrences of the word TF (which includes the code used as well). To downgrade the relative importance of words that occur all too frequently, an inverse weighting is introduced to scale down the words that occur too frequently. This inverse weighting is referred to as Inverse Document Frequency. Together, TF-IDF captures the relative importance of words in a set of documents or a collection of texts.\n",
        "\n",
        "In an applied business context, the text classification problem is one of the common problems in NLP. In text classification problems, the algorithms have to predict the topic based on a predefined set of topics it has trained on. In 2018, Google released a text classification framework based on 450K experiments on a few different text sets. Based on the 450K experiments, Google found that when the number of samples/number of words < 1500, TF IDF was the best way to represent text. When you have a smallish sample size for a relatively common problem, it helps to try out TF IDF.\n",
        "\n"
      ]
    },
    {
      "cell_type": "markdown",
      "metadata": {
        "id": "pemhg9MG_ACQ"
      },
      "source": [
        "## Overview\n",
        "\n",
        "We will be using a beautiful poem by the mystic poet and scholar Rumi as our example corpus. First, we will calculate TF IDF values for the poem using TF IDF Vectorizer from the sklearn package. Then, we will pull apart the various components and work through various steps involved in calculating TF-IDF values. Mathematical calculations and Python code will be provided for each step.\n",
        "So, let’s go!"
      ]
    },
    {
      "cell_type": "code",
      "metadata": {
        "id": "oKrD2vMDO3i7"
      },
      "source": [
        "corpus =  [\"you were born with potential\",\n",
        "\"you were born with goodness and trust\",\n",
        "\"you were born with ideals and dreams\",\n",
        "\"you were born with greatness\",\n",
        "\"you were born with wings\",\n",
        "\"you are not meant for crawling, so don't\",\n",
        "\"you have wings\",\n",
        "\"learn to use them and fly\"\n",
        "]"
      ],
      "execution_count": 1,
      "outputs": []
    },
    {
      "cell_type": "markdown",
      "metadata": {
        "id": "AJZXMX97_Oep"
      },
      "source": [
        "## Looking ahead to the final output\n",
        "\n",
        "We will be decimating the beautiful poem into mysterious decimals in this step. But, hey, after all, we are trying to demystify these decimals by understanding the calculations involved in TF-IDF. As mentioned before, it is quite easy to derive through sklearn package."
      ]
    },
    {
      "cell_type": "code",
      "metadata": {
        "id": "jUCIHv2d_IA9"
      },
      "source": [
        "#transform the tf idf vectorizer\n",
        "from sklearn.feature_extraction.text import TfidfVectorizer\n",
        "tf_idf_vect = TfidfVectorizer()\n",
        "X_train_tf_idf = tf_idf_vect.fit_transform(corpus)\n",
        "terms = tf_idf_vect.get_feature_names()"
      ],
      "execution_count": 2,
      "outputs": []
    },
    {
      "cell_type": "markdown",
      "metadata": {
        "id": "doi4jKJo_s5I"
      },
      "source": [
        "In the matrix below, each row represents a sentence from the above poem. Each column represents a unique word in the poem in alphabetical order. As you can see, there are lot of zeros in the matrix. So, a memory-efficient sparse matrix is used for representing this. I have converted it to a data frame for ease of visualization."
      ]
    },
    {
      "cell_type": "code",
      "metadata": {
        "colab": {
          "base_uri": "https://localhost:8080/",
          "height": 641
        },
        "id": "ee9Pifo9AMWi",
        "outputId": "068c5801-316b-42f3-aa8c-5f5b90aa1a57"
      },
      "source": [
        "import pandas as pd\n",
        "tfidf_matrix = pd.DataFrame(columns = [\"sentence\"] + terms)\n",
        "tfidf_matrix[\"sentence\"] = corpus\n",
        "for i in range(len(corpus)):\n",
        "  tfidf_matrix.iloc[i,1:] = X_train_tf_idf[i].toarray()[0]\n",
        "\n",
        "\n",
        "tfidf_matrix"
      ],
      "execution_count": 3,
      "outputs": [
        {
          "output_type": "execute_result",
          "data": {
            "text/html": [
              "<div>\n",
              "<style scoped>\n",
              "    .dataframe tbody tr th:only-of-type {\n",
              "        vertical-align: middle;\n",
              "    }\n",
              "\n",
              "    .dataframe tbody tr th {\n",
              "        vertical-align: top;\n",
              "    }\n",
              "\n",
              "    .dataframe thead th {\n",
              "        text-align: right;\n",
              "    }\n",
              "</style>\n",
              "<table border=\"1\" class=\"dataframe\">\n",
              "  <thead>\n",
              "    <tr style=\"text-align: right;\">\n",
              "      <th></th>\n",
              "      <th>sentence</th>\n",
              "      <th>and</th>\n",
              "      <th>are</th>\n",
              "      <th>born</th>\n",
              "      <th>crawling</th>\n",
              "      <th>don</th>\n",
              "      <th>dreams</th>\n",
              "      <th>fly</th>\n",
              "      <th>for</th>\n",
              "      <th>goodness</th>\n",
              "      <th>greatness</th>\n",
              "      <th>have</th>\n",
              "      <th>ideals</th>\n",
              "      <th>learn</th>\n",
              "      <th>meant</th>\n",
              "      <th>not</th>\n",
              "      <th>potential</th>\n",
              "      <th>so</th>\n",
              "      <th>them</th>\n",
              "      <th>to</th>\n",
              "      <th>trust</th>\n",
              "      <th>use</th>\n",
              "      <th>were</th>\n",
              "      <th>wings</th>\n",
              "      <th>with</th>\n",
              "      <th>you</th>\n",
              "    </tr>\n",
              "  </thead>\n",
              "  <tbody>\n",
              "    <tr>\n",
              "      <th>0</th>\n",
              "      <td>you were born with potential</td>\n",
              "      <td>0</td>\n",
              "      <td>0</td>\n",
              "      <td>0.383289</td>\n",
              "      <td>0</td>\n",
              "      <td>0</td>\n",
              "      <td>0</td>\n",
              "      <td>0</td>\n",
              "      <td>0</td>\n",
              "      <td>0</td>\n",
              "      <td>0</td>\n",
              "      <td>0</td>\n",
              "      <td>0</td>\n",
              "      <td>0</td>\n",
              "      <td>0</td>\n",
              "      <td>0</td>\n",
              "      <td>0.682895</td>\n",
              "      <td>0</td>\n",
              "      <td>0</td>\n",
              "      <td>0</td>\n",
              "      <td>0</td>\n",
              "      <td>0</td>\n",
              "      <td>0.383289</td>\n",
              "      <td>0</td>\n",
              "      <td>0.383289</td>\n",
              "      <td>0.304834</td>\n",
              "    </tr>\n",
              "    <tr>\n",
              "      <th>1</th>\n",
              "      <td>you were born with goodness and trust</td>\n",
              "      <td>0.37764</td>\n",
              "      <td>0</td>\n",
              "      <td>0.293087</td>\n",
              "      <td>0</td>\n",
              "      <td>0</td>\n",
              "      <td>0</td>\n",
              "      <td>0</td>\n",
              "      <td>0</td>\n",
              "      <td>0.522185</td>\n",
              "      <td>0</td>\n",
              "      <td>0</td>\n",
              "      <td>0</td>\n",
              "      <td>0</td>\n",
              "      <td>0</td>\n",
              "      <td>0</td>\n",
              "      <td>0</td>\n",
              "      <td>0</td>\n",
              "      <td>0</td>\n",
              "      <td>0</td>\n",
              "      <td>0.522185</td>\n",
              "      <td>0</td>\n",
              "      <td>0.293087</td>\n",
              "      <td>0</td>\n",
              "      <td>0.293087</td>\n",
              "      <td>0.233096</td>\n",
              "    </tr>\n",
              "    <tr>\n",
              "      <th>2</th>\n",
              "      <td>you were born with ideals and dreams</td>\n",
              "      <td>0.37764</td>\n",
              "      <td>0</td>\n",
              "      <td>0.293087</td>\n",
              "      <td>0</td>\n",
              "      <td>0</td>\n",
              "      <td>0.522185</td>\n",
              "      <td>0</td>\n",
              "      <td>0</td>\n",
              "      <td>0</td>\n",
              "      <td>0</td>\n",
              "      <td>0</td>\n",
              "      <td>0.522185</td>\n",
              "      <td>0</td>\n",
              "      <td>0</td>\n",
              "      <td>0</td>\n",
              "      <td>0</td>\n",
              "      <td>0</td>\n",
              "      <td>0</td>\n",
              "      <td>0</td>\n",
              "      <td>0</td>\n",
              "      <td>0</td>\n",
              "      <td>0.293087</td>\n",
              "      <td>0</td>\n",
              "      <td>0.293087</td>\n",
              "      <td>0.233096</td>\n",
              "    </tr>\n",
              "    <tr>\n",
              "      <th>3</th>\n",
              "      <td>you were born with greatness</td>\n",
              "      <td>0</td>\n",
              "      <td>0</td>\n",
              "      <td>0.383289</td>\n",
              "      <td>0</td>\n",
              "      <td>0</td>\n",
              "      <td>0</td>\n",
              "      <td>0</td>\n",
              "      <td>0</td>\n",
              "      <td>0</td>\n",
              "      <td>0.682895</td>\n",
              "      <td>0</td>\n",
              "      <td>0</td>\n",
              "      <td>0</td>\n",
              "      <td>0</td>\n",
              "      <td>0</td>\n",
              "      <td>0</td>\n",
              "      <td>0</td>\n",
              "      <td>0</td>\n",
              "      <td>0</td>\n",
              "      <td>0</td>\n",
              "      <td>0</td>\n",
              "      <td>0.383289</td>\n",
              "      <td>0</td>\n",
              "      <td>0.383289</td>\n",
              "      <td>0.304834</td>\n",
              "    </tr>\n",
              "    <tr>\n",
              "      <th>4</th>\n",
              "      <td>you were born with wings</td>\n",
              "      <td>0</td>\n",
              "      <td>0</td>\n",
              "      <td>0.413022</td>\n",
              "      <td>0</td>\n",
              "      <td>0</td>\n",
              "      <td>0</td>\n",
              "      <td>0</td>\n",
              "      <td>0</td>\n",
              "      <td>0</td>\n",
              "      <td>0</td>\n",
              "      <td>0</td>\n",
              "      <td>0</td>\n",
              "      <td>0</td>\n",
              "      <td>0</td>\n",
              "      <td>0</td>\n",
              "      <td>0</td>\n",
              "      <td>0</td>\n",
              "      <td>0</td>\n",
              "      <td>0</td>\n",
              "      <td>0</td>\n",
              "      <td>0</td>\n",
              "      <td>0.413022</td>\n",
              "      <td>0.616716</td>\n",
              "      <td>0.413022</td>\n",
              "      <td>0.328481</td>\n",
              "    </tr>\n",
              "    <tr>\n",
              "      <th>5</th>\n",
              "      <td>you are not meant for crawling, so don't</td>\n",
              "      <td>0</td>\n",
              "      <td>0.372697</td>\n",
              "      <td>0</td>\n",
              "      <td>0.372697</td>\n",
              "      <td>0.372697</td>\n",
              "      <td>0</td>\n",
              "      <td>0</td>\n",
              "      <td>0.372697</td>\n",
              "      <td>0</td>\n",
              "      <td>0</td>\n",
              "      <td>0</td>\n",
              "      <td>0</td>\n",
              "      <td>0</td>\n",
              "      <td>0.372697</td>\n",
              "      <td>0.372697</td>\n",
              "      <td>0</td>\n",
              "      <td>0.372697</td>\n",
              "      <td>0</td>\n",
              "      <td>0</td>\n",
              "      <td>0</td>\n",
              "      <td>0</td>\n",
              "      <td>0</td>\n",
              "      <td>0</td>\n",
              "      <td>0</td>\n",
              "      <td>0.166366</td>\n",
              "    </tr>\n",
              "    <tr>\n",
              "      <th>6</th>\n",
              "      <td>you have wings</td>\n",
              "      <td>0</td>\n",
              "      <td>0</td>\n",
              "      <td>0</td>\n",
              "      <td>0</td>\n",
              "      <td>0</td>\n",
              "      <td>0</td>\n",
              "      <td>0</td>\n",
              "      <td>0</td>\n",
              "      <td>0</td>\n",
              "      <td>0</td>\n",
              "      <td>0.725164</td>\n",
              "      <td>0</td>\n",
              "      <td>0</td>\n",
              "      <td>0</td>\n",
              "      <td>0</td>\n",
              "      <td>0</td>\n",
              "      <td>0</td>\n",
              "      <td>0</td>\n",
              "      <td>0</td>\n",
              "      <td>0</td>\n",
              "      <td>0</td>\n",
              "      <td>0</td>\n",
              "      <td>0.607744</td>\n",
              "      <td>0</td>\n",
              "      <td>0.323703</td>\n",
              "    </tr>\n",
              "    <tr>\n",
              "      <th>7</th>\n",
              "      <td>learn to use them and fly</td>\n",
              "      <td>0.307727</td>\n",
              "      <td>0</td>\n",
              "      <td>0</td>\n",
              "      <td>0</td>\n",
              "      <td>0</td>\n",
              "      <td>0</td>\n",
              "      <td>0.425512</td>\n",
              "      <td>0</td>\n",
              "      <td>0</td>\n",
              "      <td>0</td>\n",
              "      <td>0</td>\n",
              "      <td>0</td>\n",
              "      <td>0.425512</td>\n",
              "      <td>0</td>\n",
              "      <td>0</td>\n",
              "      <td>0</td>\n",
              "      <td>0</td>\n",
              "      <td>0.425512</td>\n",
              "      <td>0.425512</td>\n",
              "      <td>0</td>\n",
              "      <td>0.425512</td>\n",
              "      <td>0</td>\n",
              "      <td>0</td>\n",
              "      <td>0</td>\n",
              "      <td>0</td>\n",
              "    </tr>\n",
              "  </tbody>\n",
              "</table>\n",
              "</div>"
            ],
            "text/plain": [
              "                                   sentence       and  ...      with       you\n",
              "0              you were born with potential         0  ...  0.383289  0.304834\n",
              "1     you were born with goodness and trust   0.37764  ...  0.293087  0.233096\n",
              "2      you were born with ideals and dreams   0.37764  ...  0.293087  0.233096\n",
              "3              you were born with greatness         0  ...  0.383289  0.304834\n",
              "4                  you were born with wings         0  ...  0.413022  0.328481\n",
              "5  you are not meant for crawling, so don't         0  ...         0  0.166366\n",
              "6                            you have wings         0  ...         0  0.323703\n",
              "7                 learn to use them and fly  0.307727  ...         0         0\n",
              "\n",
              "[8 rows x 26 columns]"
            ]
          },
          "metadata": {
            "tags": []
          },
          "execution_count": 3
        }
      ]
    },
    {
      "cell_type": "markdown",
      "metadata": {
        "id": "HlAzif8YB90w"
      },
      "source": [
        "Let us interpret the numbers we have received so far. As you may have noticed, the words “you were born” are repeated throughout the poem. So, we anticipate that these words will not be getting high TF-IDF scores. If you look at the values for those three words, you can see that most often they get between 0.2 and 0.3."
      ]
    },
    {
      "cell_type": "markdown",
      "metadata": {
        "id": "rfbwcp6_CI_9"
      },
      "source": [
        "Let us look at Document 0— You were born with potential. The word potential stands out. If you look at the various TF-IDF values in the first row in the matrix, you will see that the word potential has the highest TF-IDF value.\n",
        "\n",
        "Let us look at Document 4 (row 5): You were born with wings. Again, same as before, the word “wings” has the highest value in that sentence.\n",
        "Notice that the word “wings” appears also in Document 6. TF-IDF value for the word “wings” in Document 6 is different to TF-IDF value for the word “wings” in Document 4. \n",
        "\n",
        "In Document 6, the word “wings” is deemed less important than the word “have” in Document 6."
      ]
    },
    {
      "cell_type": "markdown",
      "metadata": {
        "id": "RcOE5FCtCibu"
      },
      "source": [
        "We will be focusing on applying the calculations on the words __wings__ and __potential__ in particular, to derive the values highlighted in red in the matrix displayed above."
      ]
    },
    {
      "cell_type": "markdown",
      "metadata": {
        "id": "78y6yOYUC2P4"
      },
      "source": [
        "We will break apart the various components and then put them back together. We will do this in three steps:\n",
        "\n",
        "* Step 1: Derive term frequency values from scratch\n",
        "\n",
        "* Step 2: Derive inverse document frequency values from scratch\n",
        "\n",
        "* Step 3: Aggregate the above two values using multiplication and normalization"
      ]
    },
    {
      "cell_type": "markdown",
      "metadata": {
        "id": "8GM5n-DaDAWw"
      },
      "source": [
        "## Step 1 : Calculate term frequency values\n",
        "\n",
        "The term frequency is pretty straight forward. It is calculated as the number of times the words/terms appear in a document."
      ]
    },
    {
      "cell_type": "code",
      "metadata": {
        "id": "eoYpH-WW_ZPP",
        "outputId": "48ae356b-c55c-4538-e5e5-fd036efee23f",
        "colab": {
          "base_uri": "https://localhost:8080/",
          "height": 354
        }
      },
      "source": [
        "from sklearn.feature_extraction.text import CountVectorizer\n",
        "count_vect = CountVectorizer()\n",
        "X_train_counts = count_vect.fit_transform(corpus)\n",
        "terms = count_vect.get_feature_names()\n",
        "\n",
        "countvec_matrix = pd.DataFrame(columns = [\"sentence\"] + terms)\n",
        "countvec_matrix[\"sentence\"] = corpus\n",
        "for i in range(len(corpus)):\n",
        "  countvec_matrix.iloc[i,1:] = X_train_counts[i].toarray()[0]\n",
        "\n",
        "\n",
        "countvec_matrix"
      ],
      "execution_count": 11,
      "outputs": [
        {
          "output_type": "execute_result",
          "data": {
            "text/html": [
              "<div>\n",
              "<style scoped>\n",
              "    .dataframe tbody tr th:only-of-type {\n",
              "        vertical-align: middle;\n",
              "    }\n",
              "\n",
              "    .dataframe tbody tr th {\n",
              "        vertical-align: top;\n",
              "    }\n",
              "\n",
              "    .dataframe thead th {\n",
              "        text-align: right;\n",
              "    }\n",
              "</style>\n",
              "<table border=\"1\" class=\"dataframe\">\n",
              "  <thead>\n",
              "    <tr style=\"text-align: right;\">\n",
              "      <th></th>\n",
              "      <th>sentence</th>\n",
              "      <th>and</th>\n",
              "      <th>are</th>\n",
              "      <th>born</th>\n",
              "      <th>crawling</th>\n",
              "      <th>don</th>\n",
              "      <th>dreams</th>\n",
              "      <th>fly</th>\n",
              "      <th>for</th>\n",
              "      <th>goodness</th>\n",
              "      <th>greatness</th>\n",
              "      <th>have</th>\n",
              "      <th>ideals</th>\n",
              "      <th>learn</th>\n",
              "      <th>meant</th>\n",
              "      <th>not</th>\n",
              "      <th>potential</th>\n",
              "      <th>so</th>\n",
              "      <th>them</th>\n",
              "      <th>to</th>\n",
              "      <th>trust</th>\n",
              "      <th>use</th>\n",
              "      <th>were</th>\n",
              "      <th>wings</th>\n",
              "      <th>with</th>\n",
              "      <th>you</th>\n",
              "    </tr>\n",
              "  </thead>\n",
              "  <tbody>\n",
              "    <tr>\n",
              "      <th>0</th>\n",
              "      <td>you were born born born with potential</td>\n",
              "      <td>0</td>\n",
              "      <td>0</td>\n",
              "      <td>3</td>\n",
              "      <td>0</td>\n",
              "      <td>0</td>\n",
              "      <td>0</td>\n",
              "      <td>0</td>\n",
              "      <td>0</td>\n",
              "      <td>0</td>\n",
              "      <td>0</td>\n",
              "      <td>0</td>\n",
              "      <td>0</td>\n",
              "      <td>0</td>\n",
              "      <td>0</td>\n",
              "      <td>0</td>\n",
              "      <td>1</td>\n",
              "      <td>0</td>\n",
              "      <td>0</td>\n",
              "      <td>0</td>\n",
              "      <td>0</td>\n",
              "      <td>0</td>\n",
              "      <td>1</td>\n",
              "      <td>0</td>\n",
              "      <td>1</td>\n",
              "      <td>1</td>\n",
              "    </tr>\n",
              "    <tr>\n",
              "      <th>1</th>\n",
              "      <td>you were born with goodness and trust</td>\n",
              "      <td>1</td>\n",
              "      <td>0</td>\n",
              "      <td>1</td>\n",
              "      <td>0</td>\n",
              "      <td>0</td>\n",
              "      <td>0</td>\n",
              "      <td>0</td>\n",
              "      <td>0</td>\n",
              "      <td>1</td>\n",
              "      <td>0</td>\n",
              "      <td>0</td>\n",
              "      <td>0</td>\n",
              "      <td>0</td>\n",
              "      <td>0</td>\n",
              "      <td>0</td>\n",
              "      <td>0</td>\n",
              "      <td>0</td>\n",
              "      <td>0</td>\n",
              "      <td>0</td>\n",
              "      <td>1</td>\n",
              "      <td>0</td>\n",
              "      <td>1</td>\n",
              "      <td>0</td>\n",
              "      <td>1</td>\n",
              "      <td>1</td>\n",
              "    </tr>\n",
              "    <tr>\n",
              "      <th>2</th>\n",
              "      <td>you were born with ideals and dreams</td>\n",
              "      <td>1</td>\n",
              "      <td>0</td>\n",
              "      <td>1</td>\n",
              "      <td>0</td>\n",
              "      <td>0</td>\n",
              "      <td>1</td>\n",
              "      <td>0</td>\n",
              "      <td>0</td>\n",
              "      <td>0</td>\n",
              "      <td>0</td>\n",
              "      <td>0</td>\n",
              "      <td>1</td>\n",
              "      <td>0</td>\n",
              "      <td>0</td>\n",
              "      <td>0</td>\n",
              "      <td>0</td>\n",
              "      <td>0</td>\n",
              "      <td>0</td>\n",
              "      <td>0</td>\n",
              "      <td>0</td>\n",
              "      <td>0</td>\n",
              "      <td>1</td>\n",
              "      <td>0</td>\n",
              "      <td>1</td>\n",
              "      <td>1</td>\n",
              "    </tr>\n",
              "    <tr>\n",
              "      <th>3</th>\n",
              "      <td>you were born with greatness</td>\n",
              "      <td>0</td>\n",
              "      <td>0</td>\n",
              "      <td>1</td>\n",
              "      <td>0</td>\n",
              "      <td>0</td>\n",
              "      <td>0</td>\n",
              "      <td>0</td>\n",
              "      <td>0</td>\n",
              "      <td>0</td>\n",
              "      <td>1</td>\n",
              "      <td>0</td>\n",
              "      <td>0</td>\n",
              "      <td>0</td>\n",
              "      <td>0</td>\n",
              "      <td>0</td>\n",
              "      <td>0</td>\n",
              "      <td>0</td>\n",
              "      <td>0</td>\n",
              "      <td>0</td>\n",
              "      <td>0</td>\n",
              "      <td>0</td>\n",
              "      <td>1</td>\n",
              "      <td>0</td>\n",
              "      <td>1</td>\n",
              "      <td>1</td>\n",
              "    </tr>\n",
              "    <tr>\n",
              "      <th>4</th>\n",
              "      <td>you were born with wings</td>\n",
              "      <td>0</td>\n",
              "      <td>0</td>\n",
              "      <td>1</td>\n",
              "      <td>0</td>\n",
              "      <td>0</td>\n",
              "      <td>0</td>\n",
              "      <td>0</td>\n",
              "      <td>0</td>\n",
              "      <td>0</td>\n",
              "      <td>0</td>\n",
              "      <td>0</td>\n",
              "      <td>0</td>\n",
              "      <td>0</td>\n",
              "      <td>0</td>\n",
              "      <td>0</td>\n",
              "      <td>0</td>\n",
              "      <td>0</td>\n",
              "      <td>0</td>\n",
              "      <td>0</td>\n",
              "      <td>0</td>\n",
              "      <td>0</td>\n",
              "      <td>1</td>\n",
              "      <td>1</td>\n",
              "      <td>1</td>\n",
              "      <td>1</td>\n",
              "    </tr>\n",
              "    <tr>\n",
              "      <th>5</th>\n",
              "      <td>you are not meant for crawling, so don't</td>\n",
              "      <td>0</td>\n",
              "      <td>1</td>\n",
              "      <td>0</td>\n",
              "      <td>1</td>\n",
              "      <td>1</td>\n",
              "      <td>0</td>\n",
              "      <td>0</td>\n",
              "      <td>1</td>\n",
              "      <td>0</td>\n",
              "      <td>0</td>\n",
              "      <td>0</td>\n",
              "      <td>0</td>\n",
              "      <td>0</td>\n",
              "      <td>1</td>\n",
              "      <td>1</td>\n",
              "      <td>0</td>\n",
              "      <td>1</td>\n",
              "      <td>0</td>\n",
              "      <td>0</td>\n",
              "      <td>0</td>\n",
              "      <td>0</td>\n",
              "      <td>0</td>\n",
              "      <td>0</td>\n",
              "      <td>0</td>\n",
              "      <td>1</td>\n",
              "    </tr>\n",
              "    <tr>\n",
              "      <th>6</th>\n",
              "      <td>you have wings</td>\n",
              "      <td>0</td>\n",
              "      <td>0</td>\n",
              "      <td>0</td>\n",
              "      <td>0</td>\n",
              "      <td>0</td>\n",
              "      <td>0</td>\n",
              "      <td>0</td>\n",
              "      <td>0</td>\n",
              "      <td>0</td>\n",
              "      <td>0</td>\n",
              "      <td>1</td>\n",
              "      <td>0</td>\n",
              "      <td>0</td>\n",
              "      <td>0</td>\n",
              "      <td>0</td>\n",
              "      <td>0</td>\n",
              "      <td>0</td>\n",
              "      <td>0</td>\n",
              "      <td>0</td>\n",
              "      <td>0</td>\n",
              "      <td>0</td>\n",
              "      <td>0</td>\n",
              "      <td>1</td>\n",
              "      <td>0</td>\n",
              "      <td>1</td>\n",
              "    </tr>\n",
              "    <tr>\n",
              "      <th>7</th>\n",
              "      <td>learn to use them and fly</td>\n",
              "      <td>1</td>\n",
              "      <td>0</td>\n",
              "      <td>0</td>\n",
              "      <td>0</td>\n",
              "      <td>0</td>\n",
              "      <td>0</td>\n",
              "      <td>1</td>\n",
              "      <td>0</td>\n",
              "      <td>0</td>\n",
              "      <td>0</td>\n",
              "      <td>0</td>\n",
              "      <td>0</td>\n",
              "      <td>1</td>\n",
              "      <td>0</td>\n",
              "      <td>0</td>\n",
              "      <td>0</td>\n",
              "      <td>0</td>\n",
              "      <td>1</td>\n",
              "      <td>1</td>\n",
              "      <td>0</td>\n",
              "      <td>1</td>\n",
              "      <td>0</td>\n",
              "      <td>0</td>\n",
              "      <td>0</td>\n",
              "      <td>0</td>\n",
              "    </tr>\n",
              "  </tbody>\n",
              "</table>\n",
              "</div>"
            ],
            "text/plain": [
              "                                   sentence and are born  ... were wings with you\n",
              "0    you were born born born with potential   0   0    3  ...    1     0    1   1\n",
              "1     you were born with goodness and trust   1   0    1  ...    1     0    1   1\n",
              "2      you were born with ideals and dreams   1   0    1  ...    1     0    1   1\n",
              "3              you were born with greatness   0   0    1  ...    1     0    1   1\n",
              "4                  you were born with wings   0   0    1  ...    1     1    1   1\n",
              "5  you are not meant for crawling, so don't   0   1    0  ...    0     0    0   1\n",
              "6                            you have wings   0   0    0  ...    0     1    0   1\n",
              "7                 learn to use them and fly   1   0    0  ...    0     0    0   0\n",
              "\n",
              "[8 rows x 26 columns]"
            ]
          },
          "metadata": {
            "tags": []
          },
          "execution_count": 11
        }
      ]
    },
    {
      "cell_type": "markdown",
      "metadata": {
        "id": "D48lA14Byyci"
      },
      "source": [
        "Let us find out term frequency for the words potential and wings.\n",
        "\n",
        "* Term Frequency for the word potential in Doc 0= 1\n",
        "\n",
        "* Term Frequency for the word wings in Doc 4= 1\n",
        "\n",
        "* Term Frequency for the word wings in Doc 6 = 1"
      ]
    },
    {
      "cell_type": "markdown",
      "metadata": {
        "id": "KVnMD1uGzCl4"
      },
      "source": [
        "However, if we just take the term frequency as a measure of importance, we fall into one major pitfall as represented by the tweet below from Terrible Maps representing the most frequent word in each state in the United States.\n",
        "\n",
        "![](https://pbs.twimg.com/media/D627MpgW4AAqTNW?format=jpg)"
      ]
    },
    {
      "cell_type": "markdown",
      "metadata": {
        "id": "gdlOTFVfzf7Z"
      },
      "source": [
        "## Step 2: Inverse Document Frequency\n",
        "\n",
        "We need a mechanism to tone down the relative importance of the words that occur all too frequently in all the documents. Enter the __Inverse Document Frequency__ . Intuitively, if a word appears in all documents, then it may not play such a big part in differentiating between the documents."
      ]
    },
    {
      "cell_type": "markdown",
      "metadata": {
        "id": "_r0RzrlSzvv1"
      },
      "source": [
        "Similar to Term Frequency,\n",
        "\n",
        "```\n",
        "Document Frequency(term t) = number of documents with the term t/ total number of documents = d(t)/n\n",
        "\n",
        "Inverse Document Frequency = total number of documents / number of documents with the term t = n / d(t)\n"
      ]
    },
    {
      "cell_type": "markdown",
      "metadata": {
        "id": "ZwGRx7rm0aYx"
      },
      "source": [
        "If a word appears in all the documents, we want it at the bottom of the range of 0–1. So, a logarithmic scale intuitively makes sense to be used here as log 1 is 0.\n",
        "\n",
        " However, there are some practical considerations such as avoiding the infamous divide by 0 error, 1 is added to the denominator.\n",
        "\n",
        " \n",
        "Inverse Document frequency for the default settings in TF IDF vectorizer in sklearn is calculated as below (default settings have smooth_idf=True that adds “1” to the numerator and denominator as if an extra document was seen containing every term in the collection exactly once, which prevents zero divisions)."
      ]
    },
    {
      "cell_type": "markdown",
      "metadata": {
        "id": "I_NmF0k10d76"
      },
      "source": [
        "![](http://www.jamesbowman.me/post/semanticanalysis/tfidf-formula.jpeg)"
      ]
    },
    {
      "cell_type": "markdown",
      "metadata": {
        "id": "0Tn5qWVH1Qz2"
      },
      "source": [
        "* n is the total number of documents in the document set.\n",
        "\n",
        "* df(t) is the number of documents in the document set that contain term."
      ]
    },
    {
      "cell_type": "markdown",
      "metadata": {
        "id": "HNjr8XbZ1eWu"
      },
      "source": [
        "Let us identify the individual values for the words — potential and wings.\n",
        "\n",
        "Number of Documents = 8\n",
        "\n",
        "Number of documents in the corpus that contain the word potential = 1\n",
        "\n",
        "Number of documents in the corpus that contain the word wings = 2"
      ]
    },
    {
      "cell_type": "markdown",
      "metadata": {
        "id": "v0Hbrili1mUb"
      },
      "source": [
        "### Applying the formula for Inverse Document Frequency, we get"
      ]
    },
    {
      "cell_type": "markdown",
      "metadata": {
        "id": "VzOm8q8h1oMv"
      },
      "source": [
        "### idf(potential) = ln((1+8)/(1+1)) + 1 = ln(9/2) + 1 = 2.50477\n",
        "\n",
        "### idf(wings) = ln((1+8)/(1+2)) + 1 = ln(9/3) + 1 = 2.0908612"
      ]
    },
    {
      "cell_type": "code",
      "metadata": {
        "id": "ldfG_dNxBGmF",
        "outputId": "dba2b2b5-8505-4c7e-ab29-561c608ce4ec",
        "colab": {
          "base_uri": "https://localhost:8080/",
          "height": 162
        }
      },
      "source": [
        "count_vect.idf_"
      ],
      "execution_count": 12,
      "outputs": [
        {
          "output_type": "error",
          "ename": "AttributeError",
          "evalue": "ignored",
          "traceback": [
            "\u001b[0;31m---------------------------------------------------------------------------\u001b[0m",
            "\u001b[0;31mAttributeError\u001b[0m                            Traceback (most recent call last)",
            "\u001b[0;32m<ipython-input-12-e4eb8e6c0be5>\u001b[0m in \u001b[0;36m<module>\u001b[0;34m()\u001b[0m\n\u001b[0;32m----> 1\u001b[0;31m \u001b[0mcount_vect\u001b[0m\u001b[0;34m.\u001b[0m\u001b[0midf_\u001b[0m\u001b[0;34m\u001b[0m\u001b[0;34m\u001b[0m\u001b[0m\n\u001b[0m",
            "\u001b[0;31mAttributeError\u001b[0m: 'CountVectorizer' object has no attribute 'idf_'"
          ]
        }
      ]
    },
    {
      "cell_type": "code",
      "metadata": {
        "id": "Xu1LHOsFzB2Q",
        "outputId": "209038e1-96cc-4ba6-95fa-9568e1efa1cb",
        "colab": {
          "base_uri": "https://localhost:8080/",
          "height": 212
        }
      },
      "source": [
        "# explore idf\n",
        "# idf_ attribute can be used to extract IDF values\n",
        "# transpose the 1D IDF array to convert to a dataframe to make it easy to visualise\n",
        "df_idf = idf2df(vectorizer.idf_[:,np.newaxis].T ,terms)\n",
        "display(HTML(df_idf.to_html()))"
      ],
      "execution_count": 9,
      "outputs": [
        {
          "output_type": "error",
          "ename": "NameError",
          "evalue": "ignored",
          "traceback": [
            "\u001b[0;31m---------------------------------------------------------------------------\u001b[0m",
            "\u001b[0;31mNameError\u001b[0m                                 Traceback (most recent call last)",
            "\u001b[0;32m<ipython-input-9-9d8deaa22e8f>\u001b[0m in \u001b[0;36m<module>\u001b[0;34m()\u001b[0m\n\u001b[1;32m      2\u001b[0m \u001b[0;31m# idf_ attribute can be used to extract IDF values\u001b[0m\u001b[0;34m\u001b[0m\u001b[0;34m\u001b[0m\u001b[0;34m\u001b[0m\u001b[0m\n\u001b[1;32m      3\u001b[0m \u001b[0;31m# transpose the 1D IDF array to convert to a dataframe to make it easy to visualise\u001b[0m\u001b[0;34m\u001b[0m\u001b[0;34m\u001b[0m\u001b[0;34m\u001b[0m\u001b[0m\n\u001b[0;32m----> 4\u001b[0;31m \u001b[0mdf_idf\u001b[0m \u001b[0;34m=\u001b[0m \u001b[0midf2df\u001b[0m\u001b[0;34m(\u001b[0m\u001b[0mvectorizer\u001b[0m\u001b[0;34m.\u001b[0m\u001b[0midf_\u001b[0m\u001b[0;34m[\u001b[0m\u001b[0;34m:\u001b[0m\u001b[0;34m,\u001b[0m\u001b[0mnp\u001b[0m\u001b[0;34m.\u001b[0m\u001b[0mnewaxis\u001b[0m\u001b[0;34m]\u001b[0m\u001b[0;34m.\u001b[0m\u001b[0mT\u001b[0m \u001b[0;34m,\u001b[0m\u001b[0mterms\u001b[0m\u001b[0;34m)\u001b[0m\u001b[0;34m\u001b[0m\u001b[0;34m\u001b[0m\u001b[0m\n\u001b[0m\u001b[1;32m      5\u001b[0m \u001b[0mdisplay\u001b[0m\u001b[0;34m(\u001b[0m\u001b[0mHTML\u001b[0m\u001b[0;34m(\u001b[0m\u001b[0mdf_idf\u001b[0m\u001b[0;34m.\u001b[0m\u001b[0mto_html\u001b[0m\u001b[0;34m(\u001b[0m\u001b[0;34m)\u001b[0m\u001b[0;34m)\u001b[0m\u001b[0;34m)\u001b[0m\u001b[0;34m\u001b[0m\u001b[0;34m\u001b[0m\u001b[0m\n",
            "\u001b[0;31mNameError\u001b[0m: name 'idf2df' is not defined"
          ]
        }
      ]
    },
    {
      "cell_type": "code",
      "metadata": {
        "id": "YB-uRWVy_vIR"
      },
      "source": [
        ""
      ],
      "execution_count": 8,
      "outputs": []
    },
    {
      "cell_type": "code",
      "metadata": {
        "id": "SLRorqf_yVF6"
      },
      "source": [
        ""
      ],
      "execution_count": null,
      "outputs": []
    }
  ]
}