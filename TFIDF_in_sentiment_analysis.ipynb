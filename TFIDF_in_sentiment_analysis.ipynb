{
  "nbformat": 4,
  "nbformat_minor": 0,
  "metadata": {
    "colab": {
      "name": "TFIDF in sentiment analysis.ipynb",
      "provenance": [],
      "authorship_tag": "ABX9TyO78FegcCmef/MJRZXwmZA2",
      "include_colab_link": true
    },
    "kernelspec": {
      "name": "python3",
      "display_name": "Python 3"
    }
  },
  "cells": [
    {
      "cell_type": "markdown",
      "metadata": {
        "id": "view-in-github",
        "colab_type": "text"
      },
      "source": [
        "<a href=\"https://colab.research.google.com/github/sagar9926/Natural-Language-Processing/blob/main/TFIDF_in_sentiment_analysis.ipynb\" target=\"_parent\"><img src=\"https://colab.research.google.com/assets/colab-badge.svg\" alt=\"Open In Colab\"/></a>"
      ]
    },
    {
      "cell_type": "markdown",
      "metadata": {
        "id": "dOZl_aBA-Nb4"
      },
      "source": [
        "Credits : https://towardsdatascience.com/a-gentle-introduction-to-calculating-the-tf-idf-values-9e391f8a13e5\n",
        "\n",
        "## What is TF IDF?\n",
        "\n",
        "Intuitively, to understand what text is about, we look for words that occur frequently. Term frequency covers that aspect by capturing the number of times each word occurs in the text. However, in this article, there are 200+ occurrences of the word ‘the’ and only 55 occurrences of the word TF (which includes the code used as well). To downgrade the relative importance of words that occur all too frequently, an inverse weighting is introduced to scale down the words that occur too frequently. This inverse weighting is referred to as Inverse Document Frequency. Together, TF-IDF captures the relative importance of words in a set of documents or a collection of texts.\n",
        "\n",
        "In an applied business context, the text classification problem is one of the common problems in NLP. In text classification problems, the algorithms have to predict the topic based on a predefined set of topics it has trained on. In 2018, Google released a text classification framework based on 450K experiments on a few different text sets. Based on the 450K experiments, Google found that when the number of samples/number of words < 1500, TF IDF was the best way to represent text. When you have a smallish sample size for a relatively common problem, it helps to try out TF IDF.\n",
        "\n"
      ]
    },
    {
      "cell_type": "markdown",
      "metadata": {
        "id": "pemhg9MG_ACQ"
      },
      "source": [
        "## Overview\n",
        "\n",
        "We will be using a beautiful poem by the mystic poet and scholar Rumi as our example corpus. First, we will calculate TF IDF values for the poem using TF IDF Vectorizer from the sklearn package. Then, we will pull apart the various components and work through various steps involved in calculating TF-IDF values. Mathematical calculations and Python code will be provided for each step.\n",
        "So, let’s go!"
      ]
    },
    {
      "cell_type": "code",
      "metadata": {
        "id": "oKrD2vMDO3i7"
      },
      "source": [
        "corpus =  [\"you were born with potential\",\n",
        "\"you were born with goodness and trust\",\n",
        "\"you were born with ideals and dreams\",\n",
        "\"you were born with greatness\",\n",
        "\"you were born with wings\",\n",
        "\"you are not meant for crawling, so don't\",\n",
        "\"you have wings\",\n",
        "\"learn to use them and fly\"\n",
        "]"
      ],
      "execution_count": 1,
      "outputs": []
    },
    {
      "cell_type": "markdown",
      "metadata": {
        "id": "AJZXMX97_Oep"
      },
      "source": [
        "## Looking ahead to the final output\n",
        "\n",
        "We will be decimating the beautiful poem into mysterious decimals in this step. But, hey, after all, we are trying to demystify these decimals by understanding the calculations involved in TF-IDF. As mentioned before, it is quite easy to derive through sklearn package."
      ]
    },
    {
      "cell_type": "code",
      "metadata": {
        "id": "jUCIHv2d_IA9"
      },
      "source": [
        "#transform the tf idf vectorizer\n",
        "from sklearn.feature_extraction.text import TfidfVectorizer\n",
        "tf_idf_vect = TfidfVectorizer()\n",
        "X_train_tf_idf = tf_idf_vect.fit_transform(corpus)\n",
        "terms = tf_idf_vect.get_feature_names()"
      ],
      "execution_count": 2,
      "outputs": []
    },
    {
      "cell_type": "markdown",
      "metadata": {
        "id": "doi4jKJo_s5I"
      },
      "source": [
        "In the matrix below, each row represents a sentence from the above poem. Each column represents a unique word in the poem in alphabetical order. As you can see, there are lot of zeros in the matrix. So, a memory-efficient sparse matrix is used for representing this. I have converted it to a data frame for ease of visualization."
      ]
    },
    {
      "cell_type": "code",
      "metadata": {
        "colab": {
          "base_uri": "https://localhost:8080/",
          "height": 641
        },
        "id": "ee9Pifo9AMWi",
        "outputId": "2a473ae3-9049-4561-fb5e-3f7b73af6cec"
      },
      "source": [
        "import pandas as pd\n",
        "tfidf_matrix = pd.DataFrame(columns = [\"sentence\"] + terms)\n",
        "tfidf_matrix[\"sentence\"] = corpus\n",
        "for i in range(len(corpus)):\n",
        "  tfidf_matrix.iloc[i,1:] = X_train_tf_idf[i].toarray()[0]\n",
        "\n",
        "\n",
        "tfidf_matrix"
      ],
      "execution_count": 18,
      "outputs": [
        {
          "output_type": "execute_result",
          "data": {
            "text/html": [
              "<div>\n",
              "<style scoped>\n",
              "    .dataframe tbody tr th:only-of-type {\n",
              "        vertical-align: middle;\n",
              "    }\n",
              "\n",
              "    .dataframe tbody tr th {\n",
              "        vertical-align: top;\n",
              "    }\n",
              "\n",
              "    .dataframe thead th {\n",
              "        text-align: right;\n",
              "    }\n",
              "</style>\n",
              "<table border=\"1\" class=\"dataframe\">\n",
              "  <thead>\n",
              "    <tr style=\"text-align: right;\">\n",
              "      <th></th>\n",
              "      <th>sentence</th>\n",
              "      <th>and</th>\n",
              "      <th>are</th>\n",
              "      <th>born</th>\n",
              "      <th>crawling</th>\n",
              "      <th>don</th>\n",
              "      <th>dreams</th>\n",
              "      <th>fly</th>\n",
              "      <th>for</th>\n",
              "      <th>goodness</th>\n",
              "      <th>greatness</th>\n",
              "      <th>have</th>\n",
              "      <th>ideals</th>\n",
              "      <th>learn</th>\n",
              "      <th>meant</th>\n",
              "      <th>not</th>\n",
              "      <th>potential</th>\n",
              "      <th>so</th>\n",
              "      <th>them</th>\n",
              "      <th>to</th>\n",
              "      <th>trust</th>\n",
              "      <th>use</th>\n",
              "      <th>were</th>\n",
              "      <th>wings</th>\n",
              "      <th>with</th>\n",
              "      <th>you</th>\n",
              "    </tr>\n",
              "  </thead>\n",
              "  <tbody>\n",
              "    <tr>\n",
              "      <th>0</th>\n",
              "      <td>you were born with potential</td>\n",
              "      <td>0</td>\n",
              "      <td>0</td>\n",
              "      <td>0.383289</td>\n",
              "      <td>0</td>\n",
              "      <td>0</td>\n",
              "      <td>0</td>\n",
              "      <td>0</td>\n",
              "      <td>0</td>\n",
              "      <td>0</td>\n",
              "      <td>0</td>\n",
              "      <td>0</td>\n",
              "      <td>0</td>\n",
              "      <td>0</td>\n",
              "      <td>0</td>\n",
              "      <td>0</td>\n",
              "      <td>0.682895</td>\n",
              "      <td>0</td>\n",
              "      <td>0</td>\n",
              "      <td>0</td>\n",
              "      <td>0</td>\n",
              "      <td>0</td>\n",
              "      <td>0.383289</td>\n",
              "      <td>0</td>\n",
              "      <td>0.383289</td>\n",
              "      <td>0.304834</td>\n",
              "    </tr>\n",
              "    <tr>\n",
              "      <th>1</th>\n",
              "      <td>you were born with goodness and trust</td>\n",
              "      <td>0.37764</td>\n",
              "      <td>0</td>\n",
              "      <td>0.293087</td>\n",
              "      <td>0</td>\n",
              "      <td>0</td>\n",
              "      <td>0</td>\n",
              "      <td>0</td>\n",
              "      <td>0</td>\n",
              "      <td>0.522185</td>\n",
              "      <td>0</td>\n",
              "      <td>0</td>\n",
              "      <td>0</td>\n",
              "      <td>0</td>\n",
              "      <td>0</td>\n",
              "      <td>0</td>\n",
              "      <td>0</td>\n",
              "      <td>0</td>\n",
              "      <td>0</td>\n",
              "      <td>0</td>\n",
              "      <td>0.522185</td>\n",
              "      <td>0</td>\n",
              "      <td>0.293087</td>\n",
              "      <td>0</td>\n",
              "      <td>0.293087</td>\n",
              "      <td>0.233096</td>\n",
              "    </tr>\n",
              "    <tr>\n",
              "      <th>2</th>\n",
              "      <td>you were born with ideals and dreams</td>\n",
              "      <td>0.37764</td>\n",
              "      <td>0</td>\n",
              "      <td>0.293087</td>\n",
              "      <td>0</td>\n",
              "      <td>0</td>\n",
              "      <td>0.522185</td>\n",
              "      <td>0</td>\n",
              "      <td>0</td>\n",
              "      <td>0</td>\n",
              "      <td>0</td>\n",
              "      <td>0</td>\n",
              "      <td>0.522185</td>\n",
              "      <td>0</td>\n",
              "      <td>0</td>\n",
              "      <td>0</td>\n",
              "      <td>0</td>\n",
              "      <td>0</td>\n",
              "      <td>0</td>\n",
              "      <td>0</td>\n",
              "      <td>0</td>\n",
              "      <td>0</td>\n",
              "      <td>0.293087</td>\n",
              "      <td>0</td>\n",
              "      <td>0.293087</td>\n",
              "      <td>0.233096</td>\n",
              "    </tr>\n",
              "    <tr>\n",
              "      <th>3</th>\n",
              "      <td>you were born with greatness</td>\n",
              "      <td>0</td>\n",
              "      <td>0</td>\n",
              "      <td>0.383289</td>\n",
              "      <td>0</td>\n",
              "      <td>0</td>\n",
              "      <td>0</td>\n",
              "      <td>0</td>\n",
              "      <td>0</td>\n",
              "      <td>0</td>\n",
              "      <td>0.682895</td>\n",
              "      <td>0</td>\n",
              "      <td>0</td>\n",
              "      <td>0</td>\n",
              "      <td>0</td>\n",
              "      <td>0</td>\n",
              "      <td>0</td>\n",
              "      <td>0</td>\n",
              "      <td>0</td>\n",
              "      <td>0</td>\n",
              "      <td>0</td>\n",
              "      <td>0</td>\n",
              "      <td>0.383289</td>\n",
              "      <td>0</td>\n",
              "      <td>0.383289</td>\n",
              "      <td>0.304834</td>\n",
              "    </tr>\n",
              "    <tr>\n",
              "      <th>4</th>\n",
              "      <td>you were born with wings</td>\n",
              "      <td>0</td>\n",
              "      <td>0</td>\n",
              "      <td>0.413022</td>\n",
              "      <td>0</td>\n",
              "      <td>0</td>\n",
              "      <td>0</td>\n",
              "      <td>0</td>\n",
              "      <td>0</td>\n",
              "      <td>0</td>\n",
              "      <td>0</td>\n",
              "      <td>0</td>\n",
              "      <td>0</td>\n",
              "      <td>0</td>\n",
              "      <td>0</td>\n",
              "      <td>0</td>\n",
              "      <td>0</td>\n",
              "      <td>0</td>\n",
              "      <td>0</td>\n",
              "      <td>0</td>\n",
              "      <td>0</td>\n",
              "      <td>0</td>\n",
              "      <td>0.413022</td>\n",
              "      <td>0.616716</td>\n",
              "      <td>0.413022</td>\n",
              "      <td>0.328481</td>\n",
              "    </tr>\n",
              "    <tr>\n",
              "      <th>5</th>\n",
              "      <td>you are not meant for crawling, so don't</td>\n",
              "      <td>0</td>\n",
              "      <td>0.372697</td>\n",
              "      <td>0</td>\n",
              "      <td>0.372697</td>\n",
              "      <td>0.372697</td>\n",
              "      <td>0</td>\n",
              "      <td>0</td>\n",
              "      <td>0.372697</td>\n",
              "      <td>0</td>\n",
              "      <td>0</td>\n",
              "      <td>0</td>\n",
              "      <td>0</td>\n",
              "      <td>0</td>\n",
              "      <td>0.372697</td>\n",
              "      <td>0.372697</td>\n",
              "      <td>0</td>\n",
              "      <td>0.372697</td>\n",
              "      <td>0</td>\n",
              "      <td>0</td>\n",
              "      <td>0</td>\n",
              "      <td>0</td>\n",
              "      <td>0</td>\n",
              "      <td>0</td>\n",
              "      <td>0</td>\n",
              "      <td>0.166366</td>\n",
              "    </tr>\n",
              "    <tr>\n",
              "      <th>6</th>\n",
              "      <td>you have wings</td>\n",
              "      <td>0</td>\n",
              "      <td>0</td>\n",
              "      <td>0</td>\n",
              "      <td>0</td>\n",
              "      <td>0</td>\n",
              "      <td>0</td>\n",
              "      <td>0</td>\n",
              "      <td>0</td>\n",
              "      <td>0</td>\n",
              "      <td>0</td>\n",
              "      <td>0.725164</td>\n",
              "      <td>0</td>\n",
              "      <td>0</td>\n",
              "      <td>0</td>\n",
              "      <td>0</td>\n",
              "      <td>0</td>\n",
              "      <td>0</td>\n",
              "      <td>0</td>\n",
              "      <td>0</td>\n",
              "      <td>0</td>\n",
              "      <td>0</td>\n",
              "      <td>0</td>\n",
              "      <td>0.607744</td>\n",
              "      <td>0</td>\n",
              "      <td>0.323703</td>\n",
              "    </tr>\n",
              "    <tr>\n",
              "      <th>7</th>\n",
              "      <td>learn to use them and fly</td>\n",
              "      <td>0.307727</td>\n",
              "      <td>0</td>\n",
              "      <td>0</td>\n",
              "      <td>0</td>\n",
              "      <td>0</td>\n",
              "      <td>0</td>\n",
              "      <td>0.425512</td>\n",
              "      <td>0</td>\n",
              "      <td>0</td>\n",
              "      <td>0</td>\n",
              "      <td>0</td>\n",
              "      <td>0</td>\n",
              "      <td>0.425512</td>\n",
              "      <td>0</td>\n",
              "      <td>0</td>\n",
              "      <td>0</td>\n",
              "      <td>0</td>\n",
              "      <td>0.425512</td>\n",
              "      <td>0.425512</td>\n",
              "      <td>0</td>\n",
              "      <td>0.425512</td>\n",
              "      <td>0</td>\n",
              "      <td>0</td>\n",
              "      <td>0</td>\n",
              "      <td>0</td>\n",
              "    </tr>\n",
              "  </tbody>\n",
              "</table>\n",
              "</div>"
            ],
            "text/plain": [
              "                                   sentence       and  ...      with       you\n",
              "0              you were born with potential         0  ...  0.383289  0.304834\n",
              "1     you were born with goodness and trust   0.37764  ...  0.293087  0.233096\n",
              "2      you were born with ideals and dreams   0.37764  ...  0.293087  0.233096\n",
              "3              you were born with greatness         0  ...  0.383289  0.304834\n",
              "4                  you were born with wings         0  ...  0.413022  0.328481\n",
              "5  you are not meant for crawling, so don't         0  ...         0  0.166366\n",
              "6                            you have wings         0  ...         0  0.323703\n",
              "7                 learn to use them and fly  0.307727  ...         0         0\n",
              "\n",
              "[8 rows x 26 columns]"
            ]
          },
          "metadata": {
            "tags": []
          },
          "execution_count": 18
        }
      ]
    },
    {
      "cell_type": "markdown",
      "metadata": {
        "id": "HlAzif8YB90w"
      },
      "source": [
        "Let us interpret the numbers we have received so far. As you may have noticed, the words “you were born” are repeated throughout the poem. So, we anticipate that these words will not be getting high TF-IDF scores. If you look at the values for those three words, you can see that most often they get between 0.2 and 0.3."
      ]
    },
    {
      "cell_type": "markdown",
      "metadata": {
        "id": "rfbwcp6_CI_9"
      },
      "source": [
        "Let us look at Document 0— You were born with potential. The word potential stands out. If you look at the various TF-IDF values in the first row in the matrix, you will see that the word potential has the highest TF-IDF value.\n",
        "\n",
        "Let us look at Document 4 (row 5): You were born with wings. Again, same as before, the word “wings” has the highest value in that sentence.\n",
        "Notice that the word “wings” appears also in Document 6. TF-IDF value for the word “wings” in Document 6 is different to TF-IDF value for the word “wings” in Document 4. \n",
        "\n",
        "In Document 6, the word “wings” is deemed less important than the word “have” in Document 6."
      ]
    },
    {
      "cell_type": "markdown",
      "metadata": {
        "id": "RcOE5FCtCibu"
      },
      "source": [
        "We will be focusing on applying the calculations on the words __wings__ and __potential__ in particular, to derive the values highlighted in red in the matrix displayed above."
      ]
    },
    {
      "cell_type": "code",
      "metadata": {
        "id": "eoYpH-WW_ZPP"
      },
      "source": [
        "\n"
      ],
      "execution_count": 18,
      "outputs": []
    },
    {
      "cell_type": "code",
      "metadata": {
        "id": "YB-uRWVy_vIR"
      },
      "source": [
        ""
      ],
      "execution_count": null,
      "outputs": []
    }
  ]
}